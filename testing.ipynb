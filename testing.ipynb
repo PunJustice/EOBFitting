{
 "cells": [
  {
   "cell_type": "code",
   "execution_count": 4,
   "metadata": {},
   "outputs": [],
   "source": [
    "import numpy as np\n",
    "import sxs\n",
    "import matplotlib.pyplot as plt\n",
    "import h5py"
   ]
  },
  {
   "cell_type": "code",
   "execution_count": 2,
   "metadata": {},
   "outputs": [],
   "source": [
    "test = sxs.load(\"/urania/ptmp/pjn/scratch_gitrepos/SimulationAnnex/Private/SurveyMeanAno/01/Lev3/Horizons\")"
   ]
  },
  {
   "cell_type": "code",
   "execution_count": 13,
   "metadata": {},
   "outputs": [
    {
     "data": {
      "text/plain": [
       "35881"
      ]
     },
     "execution_count": 13,
     "metadata": {},
     "output_type": "execute_result"
    }
   ],
   "source": [
    "np.array(test.a.coord_center_inertial[:, 2]).size"
   ]
  },
  {
   "cell_type": "code",
   "execution_count": 14,
   "metadata": {},
   "outputs": [
    {
     "data": {
      "text/plain": [
       "array([0.00000e+00, 5.00000e-01, 1.00000e+00, ..., 1.79390e+04,\n",
       "       1.79395e+04, 1.79400e+04])"
      ]
     },
     "execution_count": 14,
     "metadata": {},
     "output_type": "execute_result"
    }
   ],
   "source": [
    "test.a.time"
   ]
  },
  {
   "cell_type": "code",
   "execution_count": 8,
   "metadata": {},
   "outputs": [
    {
     "data": {
      "text/plain": [
       "2.0000001721184733"
      ]
     },
     "execution_count": 8,
     "metadata": {},
     "output_type": "execute_result"
    }
   ],
   "source": [
    "test[\"initial_mass1\"]/test[\"initial_mass2\"]"
   ]
  },
  {
   "cell_type": "code",
   "execution_count": 9,
   "metadata": {},
   "outputs": [
    {
     "data": {
      "text/plain": [
       "[1.77e-14, 6.63e-14, 1.20276e-11]"
      ]
     },
     "execution_count": 9,
     "metadata": {},
     "output_type": "execute_result"
    }
   ],
   "source": [
    "test[\"initial_dimensionless_spin1\"]"
   ]
  },
  {
   "cell_type": "code",
   "execution_count": 3,
   "metadata": {},
   "outputs": [],
   "source": [
    "test = sxs.load(\"/urania/ptmp/pjn/scratch_gitrepos/SimulationAnnex/Private/AEI_Eccentric/eGSFNR_paper/BBH_SHK_q1_0_0_e05_D34/Lev3/Strain_N3\")"
   ]
  },
  {
   "cell_type": "code",
   "execution_count": 16,
   "metadata": {},
   "outputs": [
    {
     "ename": "ValueError",
     "evalue": "Nothing found matching '/urania/ptmp/pjn/scratch_gitrepos/SimulationAnnex/Private/AEI_Eccentric/eGSFNR_paper/BBH_SHK_q1_0_0_e05_D34/Lev3/metadata'",
     "output_type": "error",
     "traceback": [
      "\u001b[0;31m---------------------------------------------------------------------------\u001b[0m",
      "\u001b[0;31mValueError\u001b[0m                                Traceback (most recent call last)",
      "\u001b[1;32m/u/pjn/research/23_EOB/testing.ipynb Cell 6\u001b[0m in \u001b[0;36m<cell line: 1>\u001b[0;34m()\u001b[0m\n\u001b[0;32m----> <a href='vscode-notebook-cell://ssh-remote%2Burania01/u/pjn/research/23_EOB/testing.ipynb#X11sdnNjb2RlLXJlbW90ZQ%3D%3D?line=0'>1</a>\u001b[0m test \u001b[39m=\u001b[39m sxs\u001b[39m.\u001b[39;49mload(\u001b[39m\"\u001b[39;49m\u001b[39m/urania/ptmp/pjn/scratch_gitrepos/SimulationAnnex/Private/AEI_Eccentric/eGSFNR_paper/BBH_SHK_q1_0_0_e05_D34/Lev3/metadata\u001b[39;49m\u001b[39m\"\u001b[39;49m)\n",
      "File \u001b[0;32m~/conda-envs/py39/lib/python3.9/site-packages/sxs/handlers.py:220\u001b[0m, in \u001b[0;36mload\u001b[0;34m(location, download, cache, progress, **kwargs)\u001b[0m\n\u001b[1;32m    218\u001b[0m selections \u001b[39m=\u001b[39m catalog\u001b[39m.\u001b[39mselect_files(location)\n\u001b[1;32m    219\u001b[0m \u001b[39mif\u001b[39;00m \u001b[39mnot\u001b[39;00m selections:\n\u001b[0;32m--> 220\u001b[0m     \u001b[39mraise\u001b[39;00m \u001b[39mValueError\u001b[39;00m(\u001b[39mf\u001b[39m\u001b[39m\"\u001b[39m\u001b[39mNothing found matching \u001b[39m\u001b[39m'\u001b[39m\u001b[39m{\u001b[39;00mlocation\u001b[39m}\u001b[39;00m\u001b[39m'\u001b[39m\u001b[39m\"\u001b[39m)\n\u001b[1;32m    221\u001b[0m \u001b[39mif\u001b[39;00m progress:\n\u001b[1;32m    222\u001b[0m     \u001b[39mprint\u001b[39m(\u001b[39m\"\u001b[39m\u001b[39mFound the following files to load from the SXS catalog:\u001b[39m\u001b[39m\"\u001b[39m)\n",
      "\u001b[0;31mValueError\u001b[0m: Nothing found matching '/urania/ptmp/pjn/scratch_gitrepos/SimulationAnnex/Private/AEI_Eccentric/eGSFNR_paper/BBH_SHK_q1_0_0_e05_D34/Lev3/metadata'"
     ]
    }
   ],
   "source": [
    "test = sxs.load(\"/urania/ptmp/pjn/scratch_gitrepos/SimulationAnnex/Private/AEI_Eccentric/eGSFNR_paper/BBH_SHK_q1_0_0_e05_D34/Lev3/metadata\")"
   ]
  },
  {
   "cell_type": "code",
   "execution_count": 10,
   "metadata": {},
   "outputs": [
    {
     "data": {
      "text/plain": [
       "array([-3.83709726e-05-2.51708060e-04j, -3.89115008e-05-2.51774410e-04j,\n",
       "       -3.94856218e-05-2.51840858e-04j, ...,\n",
       "       -1.38724796e-04+2.57662669e-05j, -1.38724492e-04+2.57659501e-05j,\n",
       "       -1.38724092e-04+2.57656553e-05j])"
      ]
     },
     "execution_count": 10,
     "metadata": {},
     "output_type": "execute_result"
    }
   ],
   "source": [
    "np.array(test[:,test.index(2,2)])"
   ]
  },
  {
   "cell_type": "code",
   "execution_count": 8,
   "metadata": {},
   "outputs": [
    {
     "data": {
      "text/plain": [
       "array([ -123.55327711,  -123.05327461,  -122.55327212, ...,\n",
       "       11241.70247492, 11242.20246714, 11242.70245936])"
      ]
     },
     "execution_count": 8,
     "metadata": {},
     "output_type": "execute_result"
    }
   ],
   "source": [
    "test.t"
   ]
  },
  {
   "cell_type": "code",
   "execution_count": 15,
   "metadata": {},
   "outputs": [],
   "source": [
    "test = sxs.Metadata.from_txt_file(\"/urania/ptmp/pjn/scratch_gitrepos/SimulationAnnex/Private/AEI_Eccentric/eGSFNR_paper/BBH_SHK_q1_0_0_e05_D34/Lev3/metadata.txt\")"
   ]
  },
  {
   "cell_type": "code",
   "execution_count": 17,
   "metadata": {},
   "outputs": [
    {
     "data": {
      "text/plain": [
       "0.0037634051964827"
      ]
     },
     "execution_count": 17,
     "metadata": {},
     "output_type": "execute_result"
    }
   ],
   "source": [
    "test['initial_orbital_frequency']"
   ]
  },
  {
   "cell_type": "code",
   "execution_count": 21,
   "metadata": {},
   "outputs": [],
   "source": [
    "nr_horizons = sxs.load(\"/urania/ptmp/pjn/scratch_gitrepos/SimulationAnnex/Private/SurveyMeanAno/01/Lev3/Horizons\")"
   ]
  },
  {
   "cell_type": "code",
   "execution_count": 26,
   "metadata": {},
   "outputs": [],
   "source": [
    "seperation = np.zeros(np.array(nr_horizons.a.coord_center_inertial[:, 0]).size)\n",
    "for i in range(3):\n",
    "    seperation = (\n",
    "        seperation\n",
    "        + (\n",
    "            np.array(nr_horizons.a.coord_center_inertial[:, i])\n",
    "            - np.array(nr_horizons.b.coord_center_inertial[:, i])\n",
    "        )\n",
    "        ** 2\n",
    "    )\n",
    "seperation = np.sqrt(seperation)\n"
   ]
  },
  {
   "cell_type": "code",
   "execution_count": 45,
   "metadata": {},
   "outputs": [
    {
     "data": {
      "text/plain": [
       "(48.0, 52.0)"
      ]
     },
     "execution_count": 45,
     "metadata": {},
     "output_type": "execute_result"
    },
    {
     "data": {
      "image/png": "[encoded data removed]",
      "text/plain": [
       "<Figure size 640x480 with 1 Axes>"
      ]
     },
     "metadata": {},
     "output_type": "display_data"
    }
   ],
   "source": [
    "plt.plot(seperation)\n",
    "plt.ylim(48, 52)"
   ]
  },
  {
   "cell_type": "code",
   "execution_count": 39,
   "metadata": {},
   "outputs": [],
   "source": [
    "sign = np.sign(np.diff(seperation))\n",
    "signchange = ((np.roll(sign, 1) - sign) != 0).astype(int)\n",
    "signchange[0:100] = 0"
   ]
  },
  {
   "cell_type": "code",
   "execution_count": 40,
   "metadata": {},
   "outputs": [
    {
     "data": {
      "text/plain": [
       "[<matplotlib.lines.Line2D at 0x154de5bae8b0>]"
      ]
     },
     "execution_count": 40,
     "metadata": {},
     "output_type": "execute_result"
    },
    {
     "data": {
      "image/png": "[encoded data removed]",
      "text/plain": [
       "<Figure size 640x480 with 1 Axes>"
      ]
     },
     "metadata": {},
     "output_type": "display_data"
    }
   ],
   "source": [
    "plt.plot(signchange)"
   ]
  },
  {
   "cell_type": "code",
   "execution_count": 43,
   "metadata": {},
   "outputs": [
    {
     "name": "stdout",
     "output_type": "stream",
     "text": [
      "8265\n"
     ]
    }
   ],
   "source": [
    "apastron_index = 6\n",
    "array_index = 0\n",
    "while apastron_index > 0:\n",
    "    array_index +=1\n",
    "    while signchange[array_index] == 0:\n",
    "        array_index += 1\n",
    "    apastron_index -= 1\n",
    "\n",
    "print(array_index)"
   ]
  },
  {
   "cell_type": "code",
   "execution_count": 44,
   "metadata": {},
   "outputs": [
    {
     "data": {
      "text/plain": [
       "50.27761907248112"
      ]
     },
     "execution_count": 44,
     "metadata": {},
     "output_type": "execute_result"
    }
   ],
   "source": [
    "seperation[array_index]"
   ]
  },
  {
   "cell_type": "code",
   "execution_count": 46,
   "metadata": {},
   "outputs": [
    {
     "data": {
      "text/plain": [
       "array([0.00000e+00, 5.00000e-01, 1.00000e+00, ..., 1.79390e+04,\n",
       "       1.79395e+04, 1.79400e+04])"
      ]
     },
     "execution_count": 46,
     "metadata": {},
     "output_type": "execute_result"
    }
   ],
   "source": [
    "nr_horizons.a.time"
   ]
  },
  {
   "cell_type": "code",
   "execution_count": 47,
   "metadata": {},
   "outputs": [],
   "source": [
    "test = sxs.load(\"/urania/ptmp/pjn/scratch_gitrepos/SimulationAnnex/Private/SurveyMeanAno/01/Lev3/Strain_N3\")"
   ]
  },
  {
   "cell_type": "code",
   "execution_count": 2,
   "metadata": {},
   "outputs": [],
   "source": [
    "import gw_eccentricity"
   ]
  },
  {
   "cell_type": "code",
   "execution_count": 3,
   "metadata": {},
   "outputs": [],
   "source": [
    "nr_waveform = gw_eccentricity.load_data.load_sxs_catalogformat(\n",
    "        filepath=\"/urania/ptmp/pjn/scratch_gitrepos/SimulationAnnex/Private/SurveyMeanAno/01/Lev3/Strain_N3\"\n",
    "    )"
   ]
  },
  {
   "cell_type": "code",
   "execution_count": 5,
   "metadata": {},
   "outputs": [
    {
     "name": "stderr",
     "output_type": "stream",
     "text": [
      "/u/pjn/conda-envs/laleob/lib/python3.9/site-packages/matplotlib/cbook/__init__.py:1335: ComplexWarning: Casting complex values to real discards the imaginary part\n",
      "  return np.asarray(x, float)\n"
     ]
    },
    {
     "data": {
      "text/plain": [
       "[<matplotlib.lines.Line2D at 0x14b39fd623d0>]"
      ]
     },
     "execution_count": 5,
     "metadata": {},
     "output_type": "execute_result"
    },
    {
     "data": {
      "image/png": "[encoded data removed]",
      "text/plain": [
       "<Figure size 640x480 with 1 Axes>"
      ]
     },
     "metadata": {},
     "output_type": "display_data"
    }
   ],
   "source": [
    "plt.plot(nr_waveform[\"t\"], nr_waveform[\"hlm\"][(2,2)])"
   ]
  },
  {
   "cell_type": "code",
   "execution_count": 6,
   "metadata": {},
   "outputs": [],
   "source": [
    "test = sxs.load(\"/urania/ptmp/pjn/scratch_gitrepos/SimulationAnnex/Private/SurveyMeanAno/01/Lev3/Strain_N3\")"
   ]
  },
  {
   "cell_type": "code",
   "execution_count": 9,
   "metadata": {},
   "outputs": [],
   "source": [
    "t_merger = test.t[np.argmax(np.abs(test[:,test.index(2,2)]))]"
   ]
  },
  {
   "cell_type": "code",
   "execution_count": 10,
   "metadata": {},
   "outputs": [
    {
     "data": {
      "text/plain": [
       "17945.971276431766"
      ]
     },
     "execution_count": 10,
     "metadata": {},
     "output_type": "execute_result"
    }
   ],
   "source": [
    "t_merger"
   ]
  },
  {
   "cell_type": "code",
   "execution_count": 11,
   "metadata": {},
   "outputs": [],
   "source": [
    "test = sxs.Metadata.from_txt_file(\"/urania/ptmp/pjn/scratch_gitrepos/SimulationAnnex/Private/SurveyMeanAno/01/Lev3/metadata\")"
   ]
  },
  {
   "cell_type": "code",
   "execution_count": 13,
   "metadata": {},
   "outputs": [
    {
     "data": {
      "text/plain": [
       "Metadata([('simulation_name', '01/Lev3'),\n",
       "          ('alternative_names', 'BFI:SurveyMeanAno:01'),\n",
       "          ('keywords', []),\n",
       "          ('point_of_contact_email', 'pjnee@live.ie'),\n",
       "          ('authors_emails', []),\n",
       "          ('simulation_bibtex_keys', 'SXSCatalog'),\n",
       "          ('code_bibtex_keys',\n",
       "           ['Ossokine:2013zga',\n",
       "            'Hemberger:2012jz',\n",
       "            'Szilagyi:2009qz',\n",
       "            'Boyle:2009vi',\n",
       "            'Scheel:2008rj',\n",
       "            'Boyle:2007ft',\n",
       "            'Scheel:2006gg',\n",
       "            'Lindblom:2005qh',\n",
       "            'Pfeiffer:2002wt',\n",
       "            'SpECwebsite']),\n",
       "          ('initial_data_bibtex_keys',\n",
       "           ['Buchman:2012dw',\n",
       "            'Lovelace:2008tw',\n",
       "            'Pfeiffer:2007yz',\n",
       "            'Caudill:2006hw',\n",
       "            'Cook:2004kt']),\n",
       "          ('quasicircular_bibtex_keys',\n",
       "           ['Mroue:2012kv',\n",
       "            'Buonanno:2010yk',\n",
       "            'Mroue:2010re',\n",
       "            'Boyle:2007ft']),\n",
       "          ('initial_data_type', 'BBH_SHK'),\n",
       "          ('initial_separation', 60.0076451),\n",
       "          ('initial_orbital_frequency', 0.0013032),\n",
       "          ('initial_adot', -1.06952367e-08),\n",
       "          ('object1', 'bh'),\n",
       "          ('object2', 'bh'),\n",
       "          ('initial_ADM_energy', 0.9970477341147836),\n",
       "          ('initial_ADM_linear_momentum',\n",
       "           [-6.85105e-10, 1.0505094e-09, 1.386494e-10]),\n",
       "          ('initial_ADM_angular_momentum',\n",
       "           [-3.5100717e-09, 1.62557341e-08, 1.0944836505946403]),\n",
       "          ('initial_mass1', 0.6666666676591704),\n",
       "          ('initial_mass2', 0.3333333051431754),\n",
       "          ('initial_dimensionless_spin1', [1.77e-14, 6.63e-14, 1.20276e-11]),\n",
       "          ('initial_dimensionless_spin2', [-1.75e-14, 3.09e-14, -1.90445e-11]),\n",
       "          ('initial_position1',\n",
       "           [19.98011406500831, 0.0012777565296846, -2.5569232651e-06]),\n",
       "          ('initial_position2',\n",
       "           [-40.02753103499169, 0.0012777565296846, -2.5569232651e-06]),\n",
       "          ('relaxation_time', 160.0),\n",
       "          ('reference_time', 160.0),\n",
       "          ('reference_mass1', 0.666665468819),\n",
       "          ('reference_mass2', 0.333333473555),\n",
       "          ('reference_dimensionless_spin1',\n",
       "           [-2.81324348448e-10, -3.37241641179e-10, -5.75492616131e-09]),\n",
       "          ('reference_dimensionless_spin2',\n",
       "           [8.32381284119e-11, 1.27786686357e-11, -6.62698423927e-08]),\n",
       "          ('reference_position1',\n",
       "           [18.8118731136, 4.03065599812, -2.54065451823e-06]),\n",
       "          ('reference_position2',\n",
       "           [-37.8193707471, -8.15570846803, -2.61875456508e-06]),\n",
       "          ('reference_orbital_frequency',\n",
       "           [2.32766320547e-13, -9.97010769208e-12, 0.00138690723253]),\n",
       "          ('reference_eccentricity', 'None'),\n",
       "          ('reference_mean_anomaly', 'None'),\n",
       "          ('common_horizon_time', 17938.5872588),\n",
       "          ('number_of_orbits', 31.8709845785),\n",
       "          ('remnant_mass', 0.96130092109),\n",
       "          ('remnant_dimensionless_spin',\n",
       "           [-3.58852980653e-09, -2.34106544993e-09, 0.620569676316]),\n",
       "          ('remnant_velocity',\n",
       "           [-0.000161586585333, -0.000476500134212, 2.52182003444e-09]),\n",
       "          ('metadata_version', 1),\n",
       "          ('spec_revisions',\n",
       "           ['InitialCommit-31957-geda911fc99',\n",
       "            'InitialCommit-31980-g6948c5f3a4']),\n",
       "          ('spells_revision', 'eda911fc99284e0c746420a5ec57a7cf64239a28'),\n",
       "          ('metadata_path',\n",
       "           '/urania/ptmp/pjn/scratch_gitrepos/SimulationAnnex/Private/SurveyMeanAno/01/Lev3/metadata')])"
      ]
     },
     "execution_count": 13,
     "metadata": {},
     "output_type": "execute_result"
    }
   ],
   "source": [
    "test[\"common_horizon_time\"]"
   ]
  },
  {
   "cell_type": "code",
   "execution_count": null,
   "metadata": {},
   "outputs": [],
   "source": []
  }
 ],
 "metadata": {
  "kernelspec": {
   "display_name": "laleob",
   "language": "python",
   "name": "python3"
  },
  "language_info": {
   "codemirror_mode": {
    "name": "ipython",
    "version": 3
   },
   "file_extension": ".py",
   "mimetype": "text/x-python",
   "name": "python",
   "nbconvert_exporter": "python",
   "pygments_lexer": "ipython3",
   "version": "3.9.16"
  },
  "orig_nbformat": 4
 },
 "nbformat": 4,
 "nbformat_minor": 2
}
